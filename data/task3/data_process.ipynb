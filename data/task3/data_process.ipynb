{
 "cells": [
  {
   "cell_type": "code",
   "execution_count": 2,
   "metadata": {},
   "outputs": [],
   "source": [
    "import pandas as pd\n",
    "skill = pd.read_excel('Skills.xlsx')\n",
    "df = skill[['Title', 'Element Name', 'Data Value']]\n",
    "df.columns = ['position_code', 'skill_id', 'skill_score']\n",
    "df.to_csv('Onet_triplet.tsv', index=None)"
   ]
  }
 ],
 "metadata": {
  "kernelspec": {
   "display_name": "Python 3.8.13 ('time-series')",
   "language": "python",
   "name": "python3"
  },
  "language_info": {
   "codemirror_mode": {
    "name": "ipython",
    "version": 3
   },
   "file_extension": ".py",
   "mimetype": "text/x-python",
   "name": "python",
   "nbconvert_exporter": "python",
   "pygments_lexer": "ipython3",
   "version": "3.8.13"
  },
  "orig_nbformat": 4,
  "vscode": {
   "interpreter": {
    "hash": "fc1104729387677e60431b60b39093f220f36019b3088bcd392fdb9e6f4e7931"
   }
  }
 },
 "nbformat": 4,
 "nbformat_minor": 2
}
